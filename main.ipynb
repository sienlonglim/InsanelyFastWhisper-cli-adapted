{
 "cells": [
  {
   "cell_type": "code",
   "execution_count": 15,
   "metadata": {},
   "outputs": [],
   "source": [
    "from pytube import YouTube\n",
    "from pytube import Channel"
   ]
  },
  {
   "cell_type": "markdown",
   "metadata": {},
   "source": [
    "## Use pytube to download the audio file"
   ]
  },
  {
   "cell_type": "code",
   "execution_count": 16,
   "metadata": {},
   "outputs": [
    {
     "name": "stdout",
     "output_type": "stream",
     "text": [
      "Extracting video title: Why Snowflake Stock is Actually CHEAPER Than You Think | $SNOW Earnings Analysis\n",
      "<Stream: itag=\"139\" mime_type=\"audio/mp4\" abr=\"48kbps\" acodec=\"mp4a.40.5\" progressive=\"False\" type=\"audio\">\n",
      "<Stream: itag=\"140\" mime_type=\"audio/mp4\" abr=\"128kbps\" acodec=\"mp4a.40.2\" progressive=\"False\" type=\"audio\">\n",
      "<Stream: itag=\"249\" mime_type=\"audio/webm\" abr=\"50kbps\" acodec=\"opus\" progressive=\"False\" type=\"audio\">\n",
      "<Stream: itag=\"250\" mime_type=\"audio/webm\" abr=\"70kbps\" acodec=\"opus\" progressive=\"False\" type=\"audio\">\n",
      "<Stream: itag=\"251\" mime_type=\"audio/webm\" abr=\"160kbps\" acodec=\"opus\" progressive=\"False\" type=\"audio\">\n"
     ]
    }
   ],
   "source": [
    "url = 'https://www.youtube.com/watch?v=OOnuUFn2FZ4&ab_channel=BrianFeroldi'\n",
    "yt = YouTube(url)\n",
    "\n",
    "print(f'Extracting video title: {yt.title}')\n",
    "\n",
    "# options for stream filters:  \n",
    "# progressive=True\n",
    "# adaptive=True\n",
    "# only_audio=True\n",
    "# file_extension='mp4'\n",
    "audio_options = yt.streams.filter(only_audio=True)\n",
    "for stream in audio_options:\n",
    "    print(stream)"
   ]
  },
  {
   "cell_type": "code",
   "execution_count": 20,
   "metadata": {},
   "outputs": [],
   "source": [
    "# c = Channel('https://www.youtube.com/c/BrianFeroldi')\n",
    "# for video in c.videos:\n",
    "#     video.streams.first().download()"
   ]
  },
  {
   "cell_type": "code",
   "execution_count": 23,
   "metadata": {},
   "outputs": [
    {
     "data": {
      "text/plain": [
       "'f:\\\\python_stuff\\\\InsanelyFastWhisper\\\\audio.mp4'"
      ]
     },
     "execution_count": 23,
     "metadata": {},
     "output_type": "execute_result"
    }
   ],
   "source": [
    "chosen_stream = 'audio'\n",
    "\n",
    "if chosen_stream == '':\n",
    "    yt.streams.first().download() # used to download whatever first stream\n",
    "elif chosen_stream == 'audio':\n",
    "    stream = audio_options[0]\n",
    "else:\n",
    "    stream = yt.streams.get_by_itag(chosen_stream)\n",
    "    \n",
    "# Download\n",
    "file_type = stream.mime_type.split('/')[1]\n",
    "stream.download(filename=f'audio.{file_type}')"
   ]
  },
  {
   "cell_type": "markdown",
   "metadata": {},
   "source": [
    "## Use CLI to run the whisper command"
   ]
  },
  {
   "cell_type": "code",
   "execution_count": 40,
   "metadata": {},
   "outputs": [
    {
     "name": "stdout",
     "output_type": "stream",
     "text": [
      "python insanely-fast-whisper.py --model openai/whisper-base.en --device cpu \"audio.mp4\"\n"
     ]
    }
   ],
   "source": [
    "command = f'python insanely-fast-whisper.py --model openai/whisper-base.en --device cpu \"audio.{file_type}\"'\n",
    "print(command)"
   ]
  },
  {
   "cell_type": "code",
   "execution_count": 46,
   "metadata": {},
   "outputs": [
    {
     "data": {
      "text/plain": [
       "0"
      ]
     },
     "execution_count": 46,
     "metadata": {},
     "output_type": "execute_result"
    }
   ],
   "source": [
    "import os\n",
    "\n",
    "whisper = os.system(command)\n",
    "print(f\"{command} ran with exit code %d\" % whisper)"
   ]
  },
  {
   "cell_type": "markdown",
   "metadata": {},
   "source": [
    "## Parse the srt file to txt"
   ]
  },
  {
   "cell_type": "code",
   "execution_count": 44,
   "metadata": {},
   "outputs": [],
   "source": [
    "import pysrt\n",
    "subs = pysrt.open(\"audio.srt\")\n",
    "\n",
    "with open('transcibed.txt', 'w', encoding='utf-8') as f:\n",
    "    for sub in subs:\n",
    "        f.write(sub.text)"
   ]
  },
  {
   "cell_type": "markdown",
   "metadata": {},
   "source": [
    "## Query with LLM"
   ]
  },
  {
   "cell_type": "code",
   "execution_count": null,
   "metadata": {},
   "outputs": [],
   "source": []
  }
 ],
 "metadata": {
  "kernelspec": {
   "display_name": "venv",
   "language": "python",
   "name": "python3"
  },
  "language_info": {
   "codemirror_mode": {
    "name": "ipython",
    "version": 3
   },
   "file_extension": ".py",
   "mimetype": "text/x-python",
   "name": "python",
   "nbconvert_exporter": "python",
   "pygments_lexer": "ipython3",
   "version": "3.10.5"
  }
 },
 "nbformat": 4,
 "nbformat_minor": 2
}
